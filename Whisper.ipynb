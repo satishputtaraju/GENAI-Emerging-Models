{
 "cells": [
  {
   "cell_type": "markdown",
   "id": "d74cf718",
   "metadata": {},
   "source": [
    "# AI Speech Translation\n",
    "## avans06/whisper-webui-translate   -- WHISPER\n",
    "#### Download and run the AI Model Whisper \n",
    "We can run avans06/whisper-webui-translate completely locally on Windows and drive it from the Command Prompt or a Jupyter notebook.\n",
    "\n",
    "#### Prereqs\n",
    "-   Python 3.10 or 3.11 (add “Add Python to PATH” during install)\n",
    "-   Git\n",
    "-   FFmpeg (recommended so most audio/video formats work).\n",
    "-   PyTorch CPU if you plan to use Silero VAD or the original Whisper backend.\n",
    "\n",
    "#### Create a clean environment & install:\n",
    "-   Open \"Command Prompt\" (cmd.exe)\n",
    "-   cd %USERPROFILE%\n",
    "-   git clone https://github.com/avan06/whisper-webui-translate.git\n",
    "-   cd whisper-webui-translate\n",
    "-   Create a virtual environment\n",
    "-   python -m venv .venv\n",
    "-   .\\.venv\\Scripts\\activate\n",
    "-   CPU-friendly: use Faster-Whisper (no PyTorch wheel needed)\n",
    "-   pip install -r requirements-fasterWhisper.txt\n",
    "-   If you’ll use Silero VAD or the non-faster backend, install PyTorch CPU\n",
    "-   pip install torch --index-url https://download.pytorch.org/whl/cpu\n",
    "-   Faster-Whisper is a fast drop-in replacement for Whisper and is ideal on CPU. "
   ]
  },
  {
   "cell_type": "markdown",
   "id": "9ea95706",
   "metadata": {},
   "source": [
    "#### When the above mentioned commands are executed , the following files would be installed , cli.py, app.py, requirements-fasterWhisper.txt & requirements.txt"
   ]
  },
  {
   "cell_type": "code",
   "execution_count": 1,
   "id": "b763de2e",
   "metadata": {},
   "outputs": [
    {
     "name": "stderr",
     "output_type": "stream",
     "text": [
      "c:\\Users\\PuttarajuS\\Desktop\\.venv\\Lib\\site-packages\\ctranslate2\\__init__.py:8: UserWarning: pkg_resources is deprecated as an API. See https://setuptools.pypa.io/en/latest/pkg_resources.html. The pkg_resources package is slated for removal as early as 2025-11-30. Refrain from using this package or pin to Setuptools<81.\n",
      "  import pkg_resources\n",
      "c:\\Users\\PuttarajuS\\Desktop\\.venv\\Lib\\site-packages\\tqdm\\auto.py:21: TqdmWarning: IProgress not found. Please update jupyter and ipywidgets. See https://ipywidgets.readthedocs.io/en/stable/user_install.html\n",
      "  from .autonotebook import tqdm as notebook_tqdm\n"
     ]
    },
    {
     "name": "stdout",
     "output_type": "stream",
     "text": [
      "Wrote C:\\Users\\PuttarajuS\\Recording.txt\n",
      "This is Satish Kutaraju. I am a constituent of MSIT in Clark University.\n",
      "\n"
     ]
    }
   ],
   "source": [
    "# Cell 1: setup\n",
    "!pip -q install faster-whisper\n",
    "\n",
    "# Cell 2: translate Hindi -> English (Whisper always translates to English)\n",
    "from faster_whisper import WhisperModel\n",
    "import os\n",
    "\n",
    "AUDIO = r\"C:\\Users\\PuttarajuS\\Recording.mp3\"  # change this\n",
    "OUT   = os.path.splitext(AUDIO)[0] + \".txt\"\n",
    "\n",
    "model = WhisperModel(\"small\", device=\"cpu\", compute_type=\"int8\")\n",
    "segments, info = model.transcribe(AUDIO, task=\"translate\", language=\"hi\")  # 'language' is the INPUT language\n",
    "\n",
    "with open(OUT, \"w\", encoding=\"utf-8\") as f:\n",
    "    for seg in segments:\n",
    "        line = (getattr(seg, \"text\", \"\") or \"\").strip()\n",
    "        if line:\n",
    "            f.write(line + \"\\n\")\n",
    "print(\"Wrote\", OUT)\n",
    "\n",
    "# Also print to notebook:\n",
    "print(open(OUT, \"r\", encoding=\"utf-8\").read())"
   ]
  },
  {
   "cell_type": "code",
   "execution_count": 4,
   "id": "39078038",
   "metadata": {},
   "outputs": [
    {
     "name": "stdout",
     "output_type": "stream",
     "text": [
      "Wrote C:\\Users\\PuttarajuS\\Adhira.txt\n",
      "Hi, my name is Aligarh. I'm in 8th grade and I'm on 8th grade. I passed time by playing with my dogs.\n",
      "\n"
     ]
    }
   ],
   "source": [
    "# Cell 1: setup\n",
    "!pip -q install faster-whisper\n",
    "\n",
    "# Cell 2: translate Hindi -> English (Whisper always translates to English)\n",
    "from faster_whisper import WhisperModel\n",
    "import os\n",
    "\n",
    "AUDIO = r\"C:\\Users\\PuttarajuS\\Adhira.m4a\"  # change this\n",
    "OUT   = os.path.splitext(AUDIO)[0] + \".txt\"\n",
    "\n",
    "model = WhisperModel(\"small\", device=\"cpu\", compute_type=\"int8\")\n",
    "segments, info = model.transcribe(AUDIO, task=\"translate\", language=\"hi\")  # 'language' is the INPUT language\n",
    "\n",
    "with open(OUT, \"w\", encoding=\"utf-8\") as f:\n",
    "    for seg in segments:\n",
    "        line = (getattr(seg, \"text\", \"\") or \"\").strip()\n",
    "        if line:\n",
    "            f.write(line + \"\\n\")\n",
    "print(\"Wrote\", OUT)\n",
    "\n",
    "# Also print to notebook:\n",
    "print(open(OUT, \"r\", encoding=\"utf-8\").read())"
   ]
  }
 ],
 "metadata": {
  "kernelspec": {
   "display_name": ".venv",
   "language": "python",
   "name": "python3"
  },
  "language_info": {
   "codemirror_mode": {
    "name": "ipython",
    "version": 3
   },
   "file_extension": ".py",
   "mimetype": "text/x-python",
   "name": "python",
   "nbconvert_exporter": "python",
   "pygments_lexer": "ipython3",
   "version": "3.12.10"
  }
 },
 "nbformat": 4,
 "nbformat_minor": 5
}
